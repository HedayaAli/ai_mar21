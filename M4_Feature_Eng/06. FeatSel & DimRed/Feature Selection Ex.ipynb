{
 "cells": [
  {
   "cell_type": "code",
   "execution_count": 1,
   "metadata": {},
   "outputs": [],
   "source": [
    "import pandas as pd\n",
    "\n"
   ]
  },
  {
   "cell_type": "code",
   "execution_count": 24,
   "metadata": {},
   "outputs": [
    {
     "data": {
      "text/plain": [
       "\"\\nData_dict = {'categories_En': pd.read_csv('categories.csv')\\n            'item_categoreis': pd.read_csv('item_categories.csv')\\n            'item_categoriesR' : pd.read_csv('item_categoriesR.csv')\\n            'items_En' : pd.read_csv('items.csv')\\n            'sales_trainR' : pd.read_csv('sales_trainR.csv')\\n            'sample_submissionR' : pd.read_csv('sample_submissionR.csv')\\n            'shops_En' : pd.read_csv('shops.csv')\\n            'testR' : pd.read_csv('testR.csv')\\n            'shopsR' : pd.read_csv('shopsR.csv')\\n             \\n            }\""
      ]
     },
     "execution_count": 24,
     "metadata": {},
     "output_type": "execute_result"
    }
   ],
   "source": [
    "#Importing Data\n",
    "categories_En = pd.read_csv('categories.csv')\n",
    "item_categoreis = pd.read_csv('item_categories.csv')\n",
    "item_categoriesR = pd.read_csv('item_categoriesR.csv')\n",
    "items_En = pd.read_csv('items.csv')\n",
    "sales_trainR = pd.read_csv('sales_trainR.csv')\n",
    "sample_submissionR = pd.read_csv('sample_submissionR.csv')\n",
    "shops_En = pd.read_csv('shops.csv')\n",
    "testR = pd.read_csv('testR.csv')\n",
    "shopsR = pd.read_csv('shopsR.csv')\n",
    "\n",
    "\"\"\"\n",
    "Data_dict = {'categories_En': pd.read_csv('categories.csv')\n",
    "            'item_categoreis': pd.read_csv('item_categories.csv')\n",
    "            'item_categoriesR' : pd.read_csv('item_categoriesR.csv')\n",
    "            'items_En' : pd.read_csv('items.csv')\n",
    "            'sales_trainR' : pd.read_csv('sales_trainR.csv')\n",
    "            'sample_submissionR' : pd.read_csv('sample_submissionR.csv')\n",
    "            'shops_En' : pd.read_csv('shops.csv')\n",
    "            'testR' : pd.read_csv('testR.csv')\n",
    "            'shopsR' : pd.read_csv('shopsR.csv')\n",
    "             \n",
    "            }\"\"\"\n",
    "\n"
   ]
  },
  {
   "cell_type": "code",
   "execution_count": null,
   "metadata": {},
   "outputs": [],
   "source": []
  }
 ],
 "metadata": {
  "kernelspec": {
   "display_name": "Python 3",
   "language": "python",
   "name": "python3"
  },
  "language_info": {
   "codemirror_mode": {
    "name": "ipython",
    "version": 3
   },
   "file_extension": ".py",
   "mimetype": "text/x-python",
   "name": "python",
   "nbconvert_exporter": "python",
   "pygments_lexer": "ipython3",
   "version": "3.8.5"
  }
 },
 "nbformat": 4,
 "nbformat_minor": 4
}
