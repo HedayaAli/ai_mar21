{
 "cells": [
  {
   "cell_type": "markdown",
   "metadata": {},
   "source": [
    "### ❓ Missing values\n",
    "\n",
    "\n",
    "1. What is the missing datatype used in pandas?\n",
    "2. How to replace all occurences of the value 9999 to missing in pandas?\n",
    "3. How to get the absolute number of missings for each variable in pandas?\n",
    "4. How to get the percentage of missings for each variable in pandas?\n",
    "5. How to drop rows with missing values?\n",
    "6. How to drop variables with missing values?\n",
    "7. What is the univariate imputation method in sklearn?\n",
    "8. What is the multivariate imputation method in sklearn?\n",
    "9. What is the best univariate imputation method to categorical variables? (Explain why)\n",
    "10. What is the best univariate imputation method to numerical variables? (Explain why)\n",
    "\n",
    "### 🔎 Outliers\n",
    "\n",
    "1. What is an outlier?\n",
    "2. What is a simple method to detect and deal with outliers of a numerical variable?\n",
    "3. What is novelty detection?\n",
    "4. Name 4 advanced methods of outlier detection in sklearn.\n",
    "\n",
    "\n",
    "### 🖋 Typos\n",
    "\n",
    "1. What is a typo?\n",
    "2. What is a good method of automatically detect typos?\n",
    "\n",
    "\n",
    "\n",
    "\n"
   ]
  }
 ],
 "metadata": {
  "kernelspec": {
   "display_name": "Python 3",
   "language": "python",
   "name": "python3"
  },
  "language_info": {
   "codemirror_mode": {
    "name": "ipython",
    "version": 3
   },
   "file_extension": ".py",
   "mimetype": "text/x-python",
   "name": "python",
   "nbconvert_exporter": "python",
   "pygments_lexer": "ipython3",
   "version": "3.8.5"
  }
 },
 "nbformat": 4,
 "nbformat_minor": 4
}
