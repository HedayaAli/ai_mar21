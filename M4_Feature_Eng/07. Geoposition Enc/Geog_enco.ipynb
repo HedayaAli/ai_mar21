{
 "cells": [
  {
   "cell_type": "code",
   "source": "!pip install geopy==2.1.0",
   "metadata": {
    "tags": [],
    "cell_id": "00000-054dd651-2ac4-41e6-991a-e58f36efd235",
    "deepnote_to_be_reexecuted": false,
    "source_hash": "2b5e301f",
    "execution_start": 1620830339709,
    "execution_millis": 8306,
    "deepnote_cell_type": "code"
   },
   "outputs": [
    {
     "name": "stdout",
     "text": "Requirement already satisfied: geopy==2.1.0 in /root/venv/lib/python3.7/site-packages (2.1.0)\nRequirement already satisfied: geographiclib<2,>=1.49 in /root/venv/lib/python3.7/site-packages (from geopy==2.1.0) (1.50)\n",
     "output_type": "stream"
    }
   ],
   "execution_count": 2
  },
  {
   "cell_type": "code",
   "metadata": {
    "cell_id": "00000-a2bb9374-260b-4f18-a047-f7076739e723",
    "deepnote_to_be_reexecuted": false,
    "source_hash": "a79d5973",
    "execution_start": 1620830348035,
    "execution_millis": 60,
    "deepnote_cell_type": "code"
   },
   "source": "#Importing \nimport pandas as pd\n\nfrom geopy.geocoders import Nominatim ",
   "execution_count": 3,
   "outputs": []
  },
  {
   "cell_type": "code",
   "metadata": {
    "cell_id": "00002-d973293f-f14b-4a5a-9e22-389df1cbd236",
    "deepnote_to_be_reexecuted": false,
    "source_hash": "44ee271",
    "execution_start": 1620830394454,
    "execution_millis": 1,
    "deepnote_cell_type": "code"
   },
   "source": "#data\npath = \"../06. FeatSel & DimRed/\" \n\ndf = pd.read_csv('shops.csv')",
   "execution_count": 6,
   "outputs": []
  },
  {
   "cell_type": "code",
   "metadata": {
    "scrolled": true,
    "cell_id": "00003-246e587b-b586-4507-81c6-09b40a7e370b",
    "deepnote_to_be_reexecuted": true,
    "source_hash": "c085b6ba",
    "deepnote_cell_type": "code"
   },
   "source": "df.head()",
   "outputs": [
    {
     "data": {
      "text/html": "<div>\n<style scoped>\n    .dataframe tbody tr th:only-of-type {\n        vertical-align: middle;\n    }\n\n    .dataframe tbody tr th {\n        vertical-align: top;\n    }\n\n    .dataframe thead th {\n        text-align: right;\n    }\n</style>\n<table border=\"1\" class=\"dataframe\">\n  <thead>\n    <tr style=\"text-align: right;\">\n      <th></th>\n      <th>shop_name</th>\n      <th>shop_id</th>\n    </tr>\n  </thead>\n  <tbody>\n    <tr>\n      <th>0</th>\n      <td>! Yakutsk Ordzhonikidze, 56 francs</td>\n      <td>0</td>\n    </tr>\n    <tr>\n      <th>1</th>\n      <td>! Yakutsk TC \"Central\" fran</td>\n      <td>1</td>\n    </tr>\n    <tr>\n      <th>2</th>\n      <td>Adygea TC \"Mega\"</td>\n      <td>2</td>\n    </tr>\n    <tr>\n      <th>3</th>\n      <td>Balashikha TC \"Oktyabr-Kinomir\"</td>\n      <td>3</td>\n    </tr>\n    <tr>\n      <th>4</th>\n      <td>Volga TC \"Volga Mall\"</td>\n      <td>4</td>\n    </tr>\n  </tbody>\n</table>\n</div>",
      "text/plain": "                            shop_name  shop_id\n0  ! Yakutsk Ordzhonikidze, 56 francs        0\n1         ! Yakutsk TC \"Central\" fran        1\n2                    Adygea TC \"Mega\"        2\n3     Balashikha TC \"Oktyabr-Kinomir\"        3\n4               Volga TC \"Volga Mall\"        4"
     },
     "execution_count": 41,
     "metadata": {},
     "output_type": "execute_result"
    }
   ],
   "execution_count": null
  },
  {
   "cell_type": "markdown",
   "source": "\n## Exercise 1: Detect repeted shops\n\nThere are 4 repeted shops (8 different shop_ids). Look at the shop_name and find repeated shops. This is important because need to remove duplicated shops in the future.\n\nPlease complete this:\n\n- Ids of repepeated shop 1: 0 and 1\n- Ids of repepeated shop 2: 10 and 11\n- Ids of repepeated shop 3: 57 and 58\n- Ids of repepeated shop 4: ____ and ____",
   "metadata": {
    "cell_id": "00004-79a26d5c-5bc7-4411-a147-95c8c0a3aab5",
    "deepnote_cell_type": "markdown"
   }
  },
  {
   "cell_type": "code",
   "metadata": {
    "cell_id": "00005-c91bcc89-9216-4748-8b0c-208037c2c4d4",
    "deepnote_to_be_reexecuted": true,
    "source_hash": "8b2ef85d",
    "deepnote_cell_type": "code"
   },
   "source": "Doblicated_IDs = df[df.duplicated(keep = False)]\nprint(Doblicated_IDs)\nDoblicated_IDs.head()",
   "outputs": [
    {
     "name": "stdout",
     "output_type": "stream",
     "text": "Empty DataFrame\nColumns: [shop_name, shop_id]\nIndex: []\n"
    },
    {
     "data": {
      "text/html": "<div>\n<style scoped>\n    .dataframe tbody tr th:only-of-type {\n        vertical-align: middle;\n    }\n\n    .dataframe tbody tr th {\n        vertical-align: top;\n    }\n\n    .dataframe thead th {\n        text-align: right;\n    }\n</style>\n<table border=\"1\" class=\"dataframe\">\n  <thead>\n    <tr style=\"text-align: right;\">\n      <th></th>\n      <th>shop_name</th>\n      <th>shop_id</th>\n    </tr>\n  </thead>\n  <tbody>\n  </tbody>\n</table>\n</div>",
      "text/plain": "Empty DataFrame\nColumns: [shop_name, shop_id]\nIndex: []"
     },
     "execution_count": 29,
     "metadata": {},
     "output_type": "execute_result"
    }
   ],
   "execution_count": null
  },
  {
   "cell_type": "code",
   "metadata": {
    "scrolled": false,
    "cell_id": "00006-9d09b429-3442-4c04-9a38-c5349520e4f4",
    "deepnote_to_be_reexecuted": true,
    "source_hash": "ae6b491",
    "deepnote_cell_type": "code"
   },
   "source": "df.nunique()",
   "outputs": [
    {
     "data": {
      "text/plain": "shop_name    60\nshop_id      60\ndtype: int64"
     },
     "execution_count": 44,
     "metadata": {},
     "output_type": "execute_result"
    }
   ],
   "execution_count": null
  },
  {
   "cell_type": "code",
   "metadata": {
    "scrolled": true,
    "cell_id": "00007-cacdd6a5-2544-4f5b-bd6d-3171c0da0442",
    "deepnote_to_be_reexecuted": true,
    "source_hash": "185184b9",
    "deepnote_cell_type": "code"
   },
   "source": "df.nunique(axis= 1)",
   "outputs": [
    {
     "data": {
      "text/plain": "0     2\n1     2\n2     2\n3     2\n4     2\n5     2\n6     2\n7     2\n8     2\n9     2\n10    2\n11    2\n12    2\n13    2\n14    2\n15    2\n16    2\n17    2\n18    2\n19    2\n20    2\n21    2\n22    2\n23    2\n24    2\n25    2\n26    2\n27    2\n28    2\n29    2\n30    2\n31    2\n32    2\n33    2\n34    2\n35    2\n36    2\n37    2\n38    2\n39    2\n40    2\n41    2\n42    2\n43    2\n44    2\n45    2\n46    2\n47    2\n48    2\n49    2\n50    2\n51    2\n52    2\n53    2\n54    2\n55    2\n56    2\n57    2\n58    2\n59    2\ndtype: int64"
     },
     "execution_count": 45,
     "metadata": {},
     "output_type": "execute_result"
    }
   ],
   "execution_count": null
  },
  {
   "cell_type": "code",
   "metadata": {
    "scrolled": true,
    "cell_id": "00008-31c0881b-5390-4346-9399-56fce6afa096",
    "deepnote_to_be_reexecuted": true,
    "source_hash": "f804c160",
    "deepnote_cell_type": "code"
   },
   "source": "df",
   "outputs": [
    {
     "data": {
      "text/html": "<div>\n<style scoped>\n    .dataframe tbody tr th:only-of-type {\n        vertical-align: middle;\n    }\n\n    .dataframe tbody tr th {\n        vertical-align: top;\n    }\n\n    .dataframe thead th {\n        text-align: right;\n    }\n</style>\n<table border=\"1\" class=\"dataframe\">\n  <thead>\n    <tr style=\"text-align: right;\">\n      <th></th>\n      <th>shop_name</th>\n      <th>shop_id</th>\n    </tr>\n  </thead>\n  <tbody>\n    <tr>\n      <th>0</th>\n      <td>! Yakutsk Ordzhonikidze, 56 francs</td>\n      <td>0</td>\n    </tr>\n    <tr>\n      <th>1</th>\n      <td>! Yakutsk TC \"Central\" fran</td>\n      <td>1</td>\n    </tr>\n    <tr>\n      <th>2</th>\n      <td>Adygea TC \"Mega\"</td>\n      <td>2</td>\n    </tr>\n    <tr>\n      <th>3</th>\n      <td>Balashikha TC \"Oktyabr-Kinomir\"</td>\n      <td>3</td>\n    </tr>\n    <tr>\n      <th>4</th>\n      <td>Volga TC \"Volga Mall\"</td>\n      <td>4</td>\n    </tr>\n    <tr>\n      <th>5</th>\n      <td>Vologda SEC \"Marmelad\"</td>\n      <td>5</td>\n    </tr>\n    <tr>\n      <th>6</th>\n      <td>Voronezh (Plekhanovskaya, 13)</td>\n      <td>6</td>\n    </tr>\n    <tr>\n      <th>7</th>\n      <td>Voronezh SEC \"Maksimir\"</td>\n      <td>7</td>\n    </tr>\n    <tr>\n      <th>8</th>\n      <td>Voronezh SEC City-Park \"Grad\"</td>\n      <td>8</td>\n    </tr>\n    <tr>\n      <th>9</th>\n      <td>Outbound Trade</td>\n      <td>9</td>\n    </tr>\n    <tr>\n      <th>10</th>\n      <td>Zhukovsky st. Chkalov 39m?</td>\n      <td>10</td>\n    </tr>\n    <tr>\n      <th>11</th>\n      <td>Zhukovsky st. Chkalov 39m²</td>\n      <td>11</td>\n    </tr>\n    <tr>\n      <th>12</th>\n      <td>Internet-shop of emergency situations</td>\n      <td>12</td>\n    </tr>\n    <tr>\n      <th>13</th>\n      <td>Kazan TC \"Behetle\"</td>\n      <td>13</td>\n    </tr>\n    <tr>\n      <th>14</th>\n      <td>Kazan TC \"ParkHouse\" II</td>\n      <td>14</td>\n    </tr>\n    <tr>\n      <th>15</th>\n      <td>Kaluga TC \"XXI century\"</td>\n      <td>15</td>\n    </tr>\n    <tr>\n      <th>16</th>\n      <td>Kolomna TC \"Rio\"</td>\n      <td>16</td>\n    </tr>\n    <tr>\n      <th>17</th>\n      <td>Krasnoyarsk TC \"Vzletka Plaza\"</td>\n      <td>17</td>\n    </tr>\n    <tr>\n      <th>18</th>\n      <td>Krasnoyarsk TC \"June\"</td>\n      <td>18</td>\n    </tr>\n    <tr>\n      <th>19</th>\n      <td>Kursk TC \" Pushkinskiy \"</td>\n      <td>19</td>\n    </tr>\n    <tr>\n      <th>20</th>\n      <td>Moscow\" Sale \"</td>\n      <td>20</td>\n    </tr>\n    <tr>\n      <th>21</th>\n      <td>Moscow MTRC\" Afi Mall \"</td>\n      <td>21</td>\n    </tr>\n    <tr>\n      <th>22</th>\n      <td>Moscow Shop C21</td>\n      <td>22</td>\n    </tr>\n    <tr>\n      <th>23</th>\n      <td>Moscow TK\" Budenovskiy \"(pav.A2)</td>\n      <td>23</td>\n    </tr>\n    <tr>\n      <th>24</th>\n      <td>Moscow TK\" Budenovskiy \"(pav.K7)</td>\n      <td>24</td>\n    </tr>\n    <tr>\n      <th>25</th>\n      <td>Moscow TEC\" Atrium \"</td>\n      <td>25</td>\n    </tr>\n    <tr>\n      <th>26</th>\n      <td>Moscow TTS\" Areal \"(Belyaevo)</td>\n      <td>26</td>\n    </tr>\n    <tr>\n      <th>27</th>\n      <td>Moscow TC\" MEGA Belaya Dacha II \"</td>\n      <td>27</td>\n    </tr>\n    <tr>\n      <th>28</th>\n      <td>Moscow TC\" MEGA Teply Stan \"II</td>\n      <td>28</td>\n    </tr>\n    <tr>\n      <th>29</th>\n      <td>Moscow TC\" New Age \"(Novokosino)</td>\n      <td>29</td>\n    </tr>\n    <tr>\n      <th>30</th>\n      <td>Moscow TC\" Perlovsky \"</td>\n      <td>30</td>\n    </tr>\n    <tr>\n      <th>31</th>\n      <td>Moscow TC\" Semenovsky \"</td>\n      <td>31</td>\n    </tr>\n    <tr>\n      <th>32</th>\n      <td>Moscow TC\" Serebryany House \"</td>\n      <td>32</td>\n    </tr>\n    <tr>\n      <th>33</th>\n      <td>Mytishchi SEC\" XL-3 \"</td>\n      <td>33</td>\n    </tr>\n    <tr>\n      <th>34</th>\n      <td>N.Novgorod SEC\" RIO \"</td>\n      <td>34</td>\n    </tr>\n    <tr>\n      <th>35</th>\n      <td>N.Novgorod SEC\" Fantasy \"</td>\n      <td>35</td>\n    </tr>\n    <tr>\n      <th>36</th>\n      <td>Novosibirsk SEC\" Gallery Novosibirsk \"</td>\n      <td>36</td>\n    </tr>\n    <tr>\n      <th>37</th>\n      <td>Novosibirsk SEC\" Mega \"</td>\n      <td>37</td>\n    </tr>\n    <tr>\n      <th>38</th>\n      <td>Omsk TC\" Mega \"</td>\n      <td>38</td>\n    </tr>\n    <tr>\n      <th>39</th>\n      <td>RostovNaDonu SEC\" Megacenter Horizon</td>\n      <td>39</td>\n    </tr>\n    <tr>\n      <th>40</th>\n      <td>RostovNaDon Megatsentr Gorizont Ostrovnoy sho...</td>\n      <td>40</td>\n    </tr>\n    <tr>\n      <th>41</th>\n      <td>RostovNaDon Mega shopping center</td>\n      <td>41</td>\n    </tr>\n    <tr>\n      <th>42</th>\n      <td>St. Petersburg Nevsky Center shopping center</td>\n      <td>42</td>\n    </tr>\n    <tr>\n      <th>43</th>\n      <td>St. Petersburg Sennaya shopping center</td>\n      <td>43</td>\n    </tr>\n    <tr>\n      <th>44</th>\n      <td>Samara Melody shopping center</td>\n      <td>44</td>\n    </tr>\n    <tr>\n      <th>45</th>\n      <td>Samara ParkHouse shopping center</td>\n      <td>45</td>\n    </tr>\n    <tr>\n      <th>46</th>\n      <td>Sergiev Posad 7Ya shopping center</td>\n      <td>46</td>\n    </tr>\n    <tr>\n      <th>47</th>\n      <td>Surgut SEC \"City Mall\"</td>\n      <td>47</td>\n    </tr>\n    <tr>\n      <th>48</th>\n      <td>Tomsk SEC \"Emerald City\"</td>\n      <td>48</td>\n    </tr>\n    <tr>\n      <th>49</th>\n      <td>Tyumen SEC \"Crystal\"</td>\n      <td>49</td>\n    </tr>\n    <tr>\n      <th>50</th>\n      <td>Tyumen SEC \"Goodwin\"</td>\n      <td>50</td>\n    </tr>\n    <tr>\n      <th>51</th>\n      <td>Tyumen TC \"Green Coast \"</td>\n      <td>51</td>\n    </tr>\n    <tr>\n      <th>52</th>\n      <td>Ufa TC\" Central \"</td>\n      <td>52</td>\n    </tr>\n    <tr>\n      <th>53</th>\n      <td>Ufa TC\" Family \"2</td>\n      <td>53</td>\n    </tr>\n    <tr>\n      <th>54</th>\n      <td>Khimki TC\" Mega \"</td>\n      <td>54</td>\n    </tr>\n    <tr>\n      <th>55</th>\n      <td>Digital warehouse 1C-Online</td>\n      <td>55</td>\n    </tr>\n    <tr>\n      <th>56</th>\n      <td>Chekhov TC\" Karnaval \"</td>\n      <td>56</td>\n    </tr>\n    <tr>\n      <th>57</th>\n      <td>Yakutsk Ordzhonikidze, 56</td>\n      <td>57</td>\n    </tr>\n    <tr>\n      <th>58</th>\n      <td>Yakutsk TC\" Central \"</td>\n      <td>58</td>\n    </tr>\n    <tr>\n      <th>59</th>\n      <td>Yaroslavl TC\" Altair \"</td>\n      <td>59</td>\n    </tr>\n  </tbody>\n</table>\n</div>",
      "text/plain": "                                            shop_name  shop_id\n0                  ! Yakutsk Ordzhonikidze, 56 francs        0\n1                         ! Yakutsk TC \"Central\" fran        1\n2                                    Adygea TC \"Mega\"        2\n3                     Balashikha TC \"Oktyabr-Kinomir\"        3\n4                               Volga TC \"Volga Mall\"        4\n5                              Vologda SEC \"Marmelad\"        5\n6                       Voronezh (Plekhanovskaya, 13)        6\n7                             Voronezh SEC \"Maksimir\"        7\n8                       Voronezh SEC City-Park \"Grad\"        8\n9                                      Outbound Trade        9\n10                         Zhukovsky st. Chkalov 39m?       10\n11                         Zhukovsky st. Chkalov 39m²       11\n12              Internet-shop of emergency situations       12\n13                                 Kazan TC \"Behetle\"       13\n14                            Kazan TC \"ParkHouse\" II       14\n15                            Kaluga TC \"XXI century\"       15\n16                                   Kolomna TC \"Rio\"       16\n17                     Krasnoyarsk TC \"Vzletka Plaza\"       17\n18                              Krasnoyarsk TC \"June\"       18\n19                           Kursk TC \" Pushkinskiy \"       19\n20                                     Moscow\" Sale \"       20\n21                            Moscow MTRC\" Afi Mall \"       21\n22                                    Moscow Shop C21       22\n23                   Moscow TK\" Budenovskiy \"(pav.A2)       23\n24                   Moscow TK\" Budenovskiy \"(pav.K7)       24\n25                               Moscow TEC\" Atrium \"       25\n26                      Moscow TTS\" Areal \"(Belyaevo)       26\n27                  Moscow TC\" MEGA Belaya Dacha II \"       27\n28                     Moscow TC\" MEGA Teply Stan \"II       28\n29                   Moscow TC\" New Age \"(Novokosino)       29\n30                             Moscow TC\" Perlovsky \"       30\n31                            Moscow TC\" Semenovsky \"       31\n32                      Moscow TC\" Serebryany House \"       32\n33                              Mytishchi SEC\" XL-3 \"       33\n34                              N.Novgorod SEC\" RIO \"       34\n35                          N.Novgorod SEC\" Fantasy \"       35\n36             Novosibirsk SEC\" Gallery Novosibirsk \"       36\n37                            Novosibirsk SEC\" Mega \"       37\n38                                    Omsk TC\" Mega \"       38\n39               RostovNaDonu SEC\" Megacenter Horizon       39\n40   RostovNaDon Megatsentr Gorizont Ostrovnoy sho...       40\n41                   RostovNaDon Mega shopping center       41\n42       St. Petersburg Nevsky Center shopping center       42\n43             St. Petersburg Sennaya shopping center       43\n44                      Samara Melody shopping center       44\n45                   Samara ParkHouse shopping center       45\n46                  Sergiev Posad 7Ya shopping center       46\n47                             Surgut SEC \"City Mall\"       47\n48                           Tomsk SEC \"Emerald City\"       48\n49                               Tyumen SEC \"Crystal\"       49\n50                               Tyumen SEC \"Goodwin\"       50\n51                           Tyumen TC \"Green Coast \"       51\n52                                  Ufa TC\" Central \"       52\n53                                  Ufa TC\" Family \"2       53\n54                                  Khimki TC\" Mega \"       54\n55                        Digital warehouse 1C-Online       55\n56                             Chekhov TC\" Karnaval \"       56\n57                          Yakutsk Ordzhonikidze, 56       57\n58                              Yakutsk TC\" Central \"       58\n59                             Yaroslavl TC\" Altair \"       59"
     },
     "execution_count": 4,
     "metadata": {},
     "output_type": "execute_result"
    }
   ],
   "execution_count": null
  },
  {
   "cell_type": "code",
   "metadata": {
    "scrolled": true,
    "cell_id": "00009-d25de7c1-2902-41dd-8cba-7bf29918dec0",
    "deepnote_to_be_reexecuted": true,
    "source_hash": "9067ffcd",
    "deepnote_cell_type": "code"
   },
   "source": "df.iloc[[0,1,10,11,57,58]]",
   "outputs": [
    {
     "data": {
      "text/html": "<div>\n<style scoped>\n    .dataframe tbody tr th:only-of-type {\n        vertical-align: middle;\n    }\n\n    .dataframe tbody tr th {\n        vertical-align: top;\n    }\n\n    .dataframe thead th {\n        text-align: right;\n    }\n</style>\n<table border=\"1\" class=\"dataframe\">\n  <thead>\n    <tr style=\"text-align: right;\">\n      <th></th>\n      <th>shop_name</th>\n      <th>shop_id</th>\n    </tr>\n  </thead>\n  <tbody>\n    <tr>\n      <th>0</th>\n      <td>! Yakutsk Ordzhonikidze, 56 francs</td>\n      <td>0</td>\n    </tr>\n    <tr>\n      <th>1</th>\n      <td>! Yakutsk TC \"Central\" fran</td>\n      <td>1</td>\n    </tr>\n    <tr>\n      <th>10</th>\n      <td>Zhukovsky st. Chkalov 39m?</td>\n      <td>10</td>\n    </tr>\n    <tr>\n      <th>11</th>\n      <td>Zhukovsky st. Chkalov 39m²</td>\n      <td>11</td>\n    </tr>\n    <tr>\n      <th>57</th>\n      <td>Yakutsk Ordzhonikidze, 56</td>\n      <td>57</td>\n    </tr>\n    <tr>\n      <th>58</th>\n      <td>Yakutsk TC\" Central \"</td>\n      <td>58</td>\n    </tr>\n  </tbody>\n</table>\n</div>",
      "text/plain": "                             shop_name  shop_id\n0   ! Yakutsk Ordzhonikidze, 56 francs        0\n1          ! Yakutsk TC \"Central\" fran        1\n10          Zhukovsky st. Chkalov 39m?       10\n11          Zhukovsky st. Chkalov 39m²       11\n57           Yakutsk Ordzhonikidze, 56       57\n58               Yakutsk TC\" Central \"       58"
     },
     "execution_count": 5,
     "metadata": {},
     "output_type": "execute_result"
    }
   ],
   "execution_count": null
  },
  {
   "cell_type": "code",
   "metadata": {
    "cell_id": "00010-62e8d470-e9a1-44f8-b8c5-c78ac205a939",
    "deepnote_to_be_reexecuted": true,
    "source_hash": "b623e53d",
    "deepnote_cell_type": "code"
   },
   "source": "",
   "execution_count": null,
   "outputs": []
  },
  {
   "cell_type": "markdown",
   "source": "\n## Exercise 2: Pysical vs Online shop\n\nCreate a binary column to determint if the shop is online or not.",
   "metadata": {
    "cell_id": "00011-3fd00e73-6b0c-46cd-bee5-b16f2dae8a1c",
    "deepnote_cell_type": "markdown"
   }
  },
  {
   "cell_type": "code",
   "metadata": {
    "scrolled": true,
    "cell_id": "00012-cab92646-13b0-4efe-8cf2-fd53ac7a6858",
    "deepnote_to_be_reexecuted": false,
    "source_hash": "421cb23d",
    "execution_start": 1620830408370,
    "execution_millis": 22,
    "deepnote_cell_type": "code"
   },
   "source": "df['shop_name'] = df['shop_name'].str.lower()\ndf['shop_type'] = 'regular'\ndf.loc[ df['shop_name'].str.contains(r'tc'), 'shop_type' ]               = 'tc'\ndf.loc[ df['shop_name'].str.contains(r'mall|center|mega'), 'shop_type' ] = 'mall'\ndf.loc[ df.shop_id.isin([9,20]), 'shop_type' ]                           = 'special'\ndf.loc[ df.shop_id.isin([12,55]), 'shop_type' ]                          = 'online'\n\ndf['online'] = 0\ndf.loc[ df.shop_id.isin([12,55]), 'online' ] = 1",
   "execution_count": 7,
   "outputs": []
  },
  {
   "cell_type": "markdown",
   "source": "## Exercise 3: Get the cities\n\nExtract the city name of each shop. Cities apears on the first word of the shop name.",
   "metadata": {
    "cell_id": "00013-6697a8ea-2403-42f5-897d-c22449cc9754",
    "deepnote_cell_type": "markdown"
   }
  },
  {
   "cell_type": "code",
   "metadata": {
    "cell_id": "00014-166ba38b-e471-44e9-bd62-1ea890554c67",
    "deepnote_to_be_reexecuted": false,
    "source_hash": "9c7e6716",
    "execution_start": 1620830411285,
    "execution_millis": 8,
    "deepnote_cell_type": "code"
   },
   "source": "df['shop_city'] = df['shop_name'].str.split().str[0]\n",
   "execution_count": 8,
   "outputs": []
  },
  {
   "cell_type": "markdown",
   "source": "## Exercise 4: Latitude & Longitude\n\nGet Latitude an Longitude of each city. You can use the `geopy` package.",
   "metadata": {
    "cell_id": "00015-261ac96d-333e-44c6-8ab5-98e258040843",
    "deepnote_cell_type": "markdown"
   }
  },
  {
   "cell_type": "code",
   "metadata": {
    "cell_id": "00016-3606f893-1ca0-4dcb-baa6-5bf850eaeb16",
    "deepnote_to_be_reexecuted": false,
    "source_hash": "83511724",
    "execution_start": 1620830479258,
    "execution_millis": 17,
    "deepnote_cell_type": "code"
   },
   "source": "cities = pd.DataFrame(df['shop_city'].unique(), columns=[\"shop_city\"])\ndf['shop_city'].unique()",
   "execution_count": 9,
   "outputs": [
    {
     "output_type": "execute_result",
     "execution_count": 9,
     "data": {
      "text/plain": "array(['yakutsk', 'adygea', 'balashikha', 'volga', 'vologda', 'voronezh',\n       'outbound', 'zhukovsky', 'internet-shop', 'kazan', 'kaluga',\n       'kolomna', 'krasnoyarsk', 'kursk', 'moscow', 'mytishchi',\n       'nizhni.novgorod', 'novosibirsk', 'omsk', 'rostov-on-don',\n       'st.petersburg', 'samara', 'sergiev', 'surgut', 'tomsk', 'tyumen',\n       'ufa', 'khimki', 'digital', 'chekhov', 'yaroslavl'], dtype=object)"
     },
     "metadata": {}
    }
   ]
  },
  {
   "cell_type": "code",
   "source": "def add_lat_lon(df):\n\n    city = df[\"shop_city\"]\n    \n    if city==\"No-city\":\n        df['latitude']  = 0\n        df['longitude'] = 0\n        \n    else:\n        country =\"Ru\"\n        geolocator = Nominatim(user_agent=\"my_user_agent\")\n        loc = geolocator.geocode(city+','+ country)\n    \n        if loc != None:\n            df['latitude'] = loc.latitude\n            df['longitude'] = loc.longitude\n            \n    return df\n\ncities = cities.apply(add_lat_lon, axis=1)",
   "metadata": {
    "tags": [],
    "cell_id": "00017-465168f4-d183-4ef8-b2a9-9c982d9bd4d4",
    "deepnote_to_be_reexecuted": false,
    "source_hash": "cec9e8ce",
    "execution_start": 1620830496906,
    "execution_millis": 15338,
    "deepnote_cell_type": "code"
   },
   "outputs": [],
   "execution_count": 10
  },
  {
   "cell_type": "code",
   "source": "df",
   "metadata": {
    "tags": [],
    "cell_id": "00018-7be4eccd-a083-4363-9a3d-6ca34dcaaa20",
    "deepnote_to_be_reexecuted": false,
    "source_hash": "f804c160",
    "execution_start": 1620830713510,
    "execution_millis": 159,
    "deepnote_cell_type": "code"
   },
   "outputs": [
    {
     "output_type": "execute_result",
     "execution_count": 13,
     "data": {
      "application/vnd.deepnote.dataframe.v2+json": {
       "row_count": 60,
       "column_count": 6,
       "columns": [
        {
         "name": "shop_name",
         "dtype": "object",
         "stats": {
          "unique_count": 60,
          "nan_count": 0,
          "categories": [
           {
            "name": "yakutsk ordzhonikidze - 56 francs",
            "count": 1
           },
           {
            "name": "yakutsk tc central fran",
            "count": 1
           },
           {
            "name": "58 others",
            "count": 58
           }
          ]
         }
        },
        {
         "name": "shop_type",
         "dtype": "object",
         "stats": {
          "unique_count": 5,
          "nan_count": 0,
          "categories": [
           {
            "name": "regular",
            "count": 20
           },
           {
            "name": "tc",
            "count": 19
           },
           {
            "name": "3 others",
            "count": 21
           }
          ]
         }
        },
        {
         "name": "online",
         "dtype": "int64",
         "stats": {
          "unique_count": 2,
          "nan_count": 0,
          "min": "0",
          "max": "1",
          "histogram": [
           {
            "bin_start": 0,
            "bin_end": 0.1,
            "count": 58
           },
           {
            "bin_start": 0.1,
            "bin_end": 0.2,
            "count": 0
           },
           {
            "bin_start": 0.2,
            "bin_end": 0.30000000000000004,
            "count": 0
           },
           {
            "bin_start": 0.30000000000000004,
            "bin_end": 0.4,
            "count": 0
           },
           {
            "bin_start": 0.4,
            "bin_end": 0.5,
            "count": 0
           },
           {
            "bin_start": 0.5,
            "bin_end": 0.6000000000000001,
            "count": 0
           },
           {
            "bin_start": 0.6000000000000001,
            "bin_end": 0.7000000000000001,
            "count": 0
           },
           {
            "bin_start": 0.7000000000000001,
            "bin_end": 0.8,
            "count": 0
           },
           {
            "bin_start": 0.8,
            "bin_end": 0.9,
            "count": 0
           },
           {
            "bin_start": 0.9,
            "bin_end": 1,
            "count": 2
           }
          ]
         }
        },
        {
         "name": "shop_city",
         "dtype": "object",
         "stats": {
          "unique_count": 31,
          "nan_count": 0,
          "categories": [
           {
            "name": "moscow",
            "count": 13
           },
           {
            "name": "yakutsk",
            "count": 4
           },
           {
            "name": "29 others",
            "count": 43
           }
          ]
         }
        },
        {
         "name": "latitude",
         "dtype": "float64",
         "stats": {
          "unique_count": 31,
          "nan_count": 0,
          "min": "44.6939006",
          "max": "63.3233807",
          "histogram": [
           {
            "bin_start": 44.6939006,
            "bin_end": 46.55684861,
            "count": 1
           },
           {
            "bin_start": 46.55684861,
            "bin_end": 48.41979662,
            "count": 3
           },
           {
            "bin_start": 48.41979662,
            "bin_end": 50.282744629999996,
            "count": 0
           },
           {
            "bin_start": 50.282744629999996,
            "bin_end": 52.14569264,
            "count": 5
           },
           {
            "bin_start": 52.14569264,
            "bin_end": 54.008640650000004,
            "count": 3
           },
           {
            "bin_start": 54.008640650000004,
            "bin_end": 55.87158866,
            "count": 27
           },
           {
            "bin_start": 55.87158866,
            "bin_end": 57.73453667,
            "count": 10
           },
           {
            "bin_start": 57.73453667,
            "bin_end": 59.59748468,
            "count": 2
           },
           {
            "bin_start": 59.59748468,
            "bin_end": 61.460432690000005,
            "count": 3
           },
           {
            "bin_start": 61.460432690000005,
            "bin_end": 63.3233807,
            "count": 6
           }
          ]
         }
        },
        {
         "name": "longitude",
         "dtype": "float64",
         "stats": {
          "unique_count": 31,
          "nan_count": 0,
          "min": "-2.760695",
          "max": "129.732086",
          "histogram": [
           {
            "bin_start": -2.760695,
            "bin_end": 10.488583100000001,
            "count": 3
           },
           {
            "bin_start": 10.488583100000001,
            "bin_end": 23.737861200000005,
            "count": 0
           },
           {
            "bin_start": 23.737861200000005,
            "bin_end": 36.98713930000001,
            "count": 4
           },
           {
            "bin_start": 36.98713930000001,
            "bin_end": 50.23641740000001,
            "count": 37
           },
           {
            "bin_start": 50.23641740000001,
            "bin_end": 63.485695500000006,
            "count": 2
           },
           {
            "bin_start": 63.485695500000006,
            "bin_end": 76.73497360000002,
            "count": 5
           },
           {
            "bin_start": 76.73497360000002,
            "bin_end": 89.98425170000002,
            "count": 3
           },
           {
            "bin_start": 89.98425170000002,
            "bin_end": 103.23352980000001,
            "count": 2
           },
           {
            "bin_start": 103.23352980000001,
            "bin_end": 116.48280790000001,
            "count": 0
           },
           {
            "bin_start": 116.48280790000001,
            "bin_end": 129.732086,
            "count": 4
           }
          ]
         }
        },
        {
         "name": "_deepnote_index_column",
         "dtype": "int64"
        }
       ],
       "rows_top": [
        {
         "shop_name": "yakutsk ordzhonikidze - 56 francs",
         "shop_type": "regular",
         "online": 0,
         "shop_city": "yakutsk",
         "latitude": 62.027287,
         "longitude": 129.732086,
         "_deepnote_index_column": 0
        },
        {
         "shop_name": "yakutsk tc central fran",
         "shop_type": "tc",
         "online": 0,
         "shop_city": "yakutsk",
         "latitude": 62.027287,
         "longitude": 129.732086,
         "_deepnote_index_column": 1
        },
        {
         "shop_name": "adygea tc mega",
         "shop_type": "mall",
         "online": 0,
         "shop_city": "adygea",
         "latitude": 44.6939006,
         "longitude": 40.1520421,
         "_deepnote_index_column": 2
        },
        {
         "shop_name": "balashikha tc oktyabr-kinomir",
         "shop_type": "tc",
         "online": 0,
         "shop_city": "balashikha",
         "latitude": 55.8036225,
         "longitude": 37.9646488,
         "_deepnote_index_column": 3
        },
        {
         "shop_name": "volga tc volga mall",
         "shop_type": "mall",
         "online": 0,
         "shop_city": "volga",
         "latitude": 56.1670244,
         "longitude": 44.2150569,
         "_deepnote_index_column": 4
        },
        {
         "shop_name": "vologda sec marmelad",
         "shop_type": "regular",
         "online": 0,
         "shop_city": "vologda",
         "latitude": 59.218876,
         "longitude": 39.893276,
         "_deepnote_index_column": 5
        },
        {
         "shop_name": "voronezh (plekhanovskaya 13)",
         "shop_type": "regular",
         "online": 0,
         "shop_city": "voronezh",
         "latitude": 51.6605982,
         "longitude": 39.2005858,
         "_deepnote_index_column": 6
        },
        {
         "shop_name": "voronezh sec maksimir",
         "shop_type": "regular",
         "online": 0,
         "shop_city": "voronezh",
         "latitude": 51.6605982,
         "longitude": 39.2005858,
         "_deepnote_index_column": 7
        },
        {
         "shop_name": "voronezh sec city-park grad",
         "shop_type": "regular",
         "online": 0,
         "shop_city": "voronezh",
         "latitude": 51.6605982,
         "longitude": 39.2005858,
         "_deepnote_index_column": 8
        },
        {
         "shop_name": "outbound trade",
         "shop_type": "special",
         "online": 0,
         "shop_city": "outbound",
         "latitude": 52.7113389,
         "longitude": -2.760695,
         "_deepnote_index_column": 9
        },
        {
         "shop_name": "zhukovsky st. chkalov 39m?",
         "shop_type": "regular",
         "online": 0,
         "shop_city": "zhukovsky",
         "latitude": 55.5972801,
         "longitude": 38.1199863,
         "_deepnote_index_column": 10
        },
        {
         "shop_name": "zhukovsky st. chkalov 39m²",
         "shop_type": "regular",
         "online": 0,
         "shop_city": "zhukovsky",
         "latitude": 55.5972801,
         "longitude": 38.1199863,
         "_deepnote_index_column": 11
        },
        {
         "shop_name": "internet-shop of emergency situations",
         "shop_type": "online",
         "online": 1,
         "shop_city": "internet-shop",
         "latitude": 51.4707126,
         "longitude": -0.0289229,
         "_deepnote_index_column": 12
        },
        {
         "shop_name": "kazan tc behetle",
         "shop_type": "tc",
         "online": 0,
         "shop_city": "kazan",
         "latitude": 55.7823547,
         "longitude": 49.1242266,
         "_deepnote_index_column": 13
        },
        {
         "shop_name": "kazan tc parkhouse ii",
         "shop_type": "tc",
         "online": 0,
         "shop_city": "kazan",
         "latitude": 55.7823547,
         "longitude": 49.1242266,
         "_deepnote_index_column": 14
        },
        {
         "shop_name": "kaluga tc xxi century",
         "shop_type": "tc",
         "online": 0,
         "shop_city": "kaluga",
         "latitude": 54.5101087,
         "longitude": 36.2598115,
         "_deepnote_index_column": 15
        },
        {
         "shop_name": "kolomna tc rio",
         "shop_type": "tc",
         "online": 0,
         "shop_city": "kolomna",
         "latitude": 55.0938743,
         "longitude": 38.7670121,
         "_deepnote_index_column": 16
        },
        {
         "shop_name": "krasnoyarsk tc vzletka plaza",
         "shop_type": "tc",
         "online": 0,
         "shop_city": "krasnoyarsk",
         "latitude": 63.3233807,
         "longitude": 97.0979974,
         "_deepnote_index_column": 17
        },
        {
         "shop_name": "krasnoyarsk tc june",
         "shop_type": "tc",
         "online": 0,
         "shop_city": "krasnoyarsk",
         "latitude": 63.3233807,
         "longitude": 97.0979974,
         "_deepnote_index_column": 18
        },
        {
         "shop_name": "kursk tc  pushkinskiy ",
         "shop_type": "tc",
         "online": 0,
         "shop_city": "kursk",
         "latitude": 51.739433,
         "longitude": 36.179604,
         "_deepnote_index_column": 19
        },
        {
         "shop_name": "moscow sale ",
         "shop_type": "special",
         "online": 0,
         "shop_city": "moscow",
         "latitude": 55.7504461,
         "longitude": 37.6174943,
         "_deepnote_index_column": 20
        },
        {
         "shop_name": "moscow mtrc afi mall ",
         "shop_type": "mall",
         "online": 0,
         "shop_city": "moscow",
         "latitude": 55.7504461,
         "longitude": 37.6174943,
         "_deepnote_index_column": 21
        },
        {
         "shop_name": "moscow shop c21",
         "shop_type": "regular",
         "online": 0,
         "shop_city": "moscow",
         "latitude": 55.7504461,
         "longitude": 37.6174943,
         "_deepnote_index_column": 22
        },
        {
         "shop_name": "moscow tk budenovskiy (pav.a2)",
         "shop_type": "regular",
         "online": 0,
         "shop_city": "moscow",
         "latitude": 55.7504461,
         "longitude": 37.6174943,
         "_deepnote_index_column": 23
        },
        {
         "shop_name": "moscow tk budenovskiy (pav.k7)",
         "shop_type": "regular",
         "online": 0,
         "shop_city": "moscow",
         "latitude": 55.7504461,
         "longitude": 37.6174943,
         "_deepnote_index_column": 24
        },
        {
         "shop_name": "moscow tec atrium ",
         "shop_type": "regular",
         "online": 0,
         "shop_city": "moscow",
         "latitude": 55.7504461,
         "longitude": 37.6174943,
         "_deepnote_index_column": 25
        },
        {
         "shop_name": "moscow tts areal (belyaevo)",
         "shop_type": "regular",
         "online": 0,
         "shop_city": "moscow",
         "latitude": 55.7504461,
         "longitude": 37.6174943,
         "_deepnote_index_column": 26
        },
        {
         "shop_name": "moscow tc mega belaya dacha ii ",
         "shop_type": "mall",
         "online": 0,
         "shop_city": "moscow",
         "latitude": 55.7504461,
         "longitude": 37.6174943,
         "_deepnote_index_column": 27
        },
        {
         "shop_name": "moscow tc mega teply stan ii",
         "shop_type": "mall",
         "online": 0,
         "shop_city": "moscow",
         "latitude": 55.7504461,
         "longitude": 37.6174943,
         "_deepnote_index_column": 28
        },
        {
         "shop_name": "moscow tc new age (novokosino)",
         "shop_type": "tc",
         "online": 0,
         "shop_city": "moscow",
         "latitude": 55.7504461,
         "longitude": 37.6174943,
         "_deepnote_index_column": 29
        },
        {
         "shop_name": "moscow tc perlovsky ",
         "shop_type": "tc",
         "online": 0,
         "shop_city": "moscow",
         "latitude": 55.7504461,
         "longitude": 37.6174943,
         "_deepnote_index_column": 30
        },
        {
         "shop_name": "moscow tc semenovsky ",
         "shop_type": "tc",
         "online": 0,
         "shop_city": "moscow",
         "latitude": 55.7504461,
         "longitude": 37.6174943,
         "_deepnote_index_column": 31
        },
        {
         "shop_name": "moscow tc serebryany house ",
         "shop_type": "tc",
         "online": 0,
         "shop_city": "moscow",
         "latitude": 55.7504461,
         "longitude": 37.6174943,
         "_deepnote_index_column": 32
        },
        {
         "shop_name": "mytishchi sec xl-3 ",
         "shop_type": "regular",
         "online": 0,
         "shop_city": "mytishchi",
         "latitude": 55.9094928,
         "longitude": 37.7339358,
         "_deepnote_index_column": 33
        },
        {
         "shop_name": "nizhni.novgorod sec rio ",
         "shop_type": "regular",
         "online": 0,
         "shop_city": "nizhni.novgorod",
         "latitude": 56.328571,
         "longitude": 44.003506,
         "_deepnote_index_column": 34
        },
        {
         "shop_name": "nizhni.novgorod sec fantasy ",
         "shop_type": "regular",
         "online": 0,
         "shop_city": "nizhni.novgorod",
         "latitude": 56.328571,
         "longitude": 44.003506,
         "_deepnote_index_column": 35
        },
        {
         "shop_name": "novosibirsk sec gallery novosibirsk ",
         "shop_type": "regular",
         "online": 0,
         "shop_city": "novosibirsk",
         "latitude": 55.0282171,
         "longitude": 82.9234509,
         "_deepnote_index_column": 36
        },
        {
         "shop_name": "novosibirsk sec mega ",
         "shop_type": "mall",
         "online": 0,
         "shop_city": "novosibirsk",
         "latitude": 55.0282171,
         "longitude": 82.9234509,
         "_deepnote_index_column": 37
        },
        {
         "shop_name": "omsk tc mega ",
         "shop_type": "mall",
         "online": 0,
         "shop_city": "omsk",
         "latitude": 54.991375,
         "longitude": 73.371529,
         "_deepnote_index_column": 38
        },
        {
         "shop_name": "rostov-on-don sec megacenter horizon",
         "shop_type": "mall",
         "online": 0,
         "shop_city": "rostov-on-don",
         "latitude": 47.2213858,
         "longitude": 39.7114196,
         "_deepnote_index_column": 39
        },
        {
         "shop_name": "rostov-on-don megatsentr gorizont ostrovnoy shopping mall",
         "shop_type": "mall",
         "online": 0,
         "shop_city": "rostov-on-don",
         "latitude": 47.2213858,
         "longitude": 39.7114196,
         "_deepnote_index_column": 40
        },
        {
         "shop_name": "rostov-on-don mega shopping center",
         "shop_type": "mall",
         "online": 0,
         "shop_city": "rostov-on-don",
         "latitude": 47.2213858,
         "longitude": 39.7114196,
         "_deepnote_index_column": 41
        },
        {
         "shop_name": "st.petersburg nevsky center shopping center",
         "shop_type": "mall",
         "online": 0,
         "shop_city": "st.petersburg",
         "latitude": 59.938732,
         "longitude": 30.316229,
         "_deepnote_index_column": 42
        },
        {
         "shop_name": "st.petersburg sennaya shopping center",
         "shop_type": "mall",
         "online": 0,
         "shop_city": "st.petersburg",
         "latitude": 59.938732,
         "longitude": 30.316229,
         "_deepnote_index_column": 43
        },
        {
         "shop_name": "samara melody shopping center",
         "shop_type": "mall",
         "online": 0,
         "shop_city": "samara",
         "latitude": 53.198627,
         "longitude": 50.113987,
         "_deepnote_index_column": 44
        },
        {
         "shop_name": "samara parkhouse shopping center",
         "shop_type": "mall",
         "online": 0,
         "shop_city": "samara",
         "latitude": 53.198627,
         "longitude": 50.113987,
         "_deepnote_index_column": 45
        },
        {
         "shop_name": "sergiev posad 7ya shopping center",
         "shop_type": "mall",
         "online": 0,
         "shop_city": "sergiev",
         "latitude": 56.3133404,
         "longitude": 38.1320729,
         "_deepnote_index_column": 46
        },
        {
         "shop_name": "surgut sec city mall",
         "shop_type": "mall",
         "online": 0,
         "shop_city": "surgut",
         "latitude": 61.254032,
         "longitude": 73.3964,
         "_deepnote_index_column": 47
        },
        {
         "shop_name": "tomsk sec emerald city",
         "shop_type": "regular",
         "online": 0,
         "shop_city": "tomsk",
         "latitude": 58.6124279,
         "longitude": 82.0475315,
         "_deepnote_index_column": 48
        },
        {
         "shop_name": "tyumen sec crystal",
         "shop_type": "regular",
         "online": 0,
         "shop_city": "tyumen",
         "latitude": 57.153534,
         "longitude": 65.542274,
         "_deepnote_index_column": 49
        },
        {
         "shop_name": "tyumen sec goodwin",
         "shop_type": "regular",
         "online": 0,
         "shop_city": "tyumen",
         "latitude": 57.153534,
         "longitude": 65.542274,
         "_deepnote_index_column": 50
        },
        {
         "shop_name": "tyumen tc green coast ",
         "shop_type": "tc",
         "online": 0,
         "shop_city": "tyumen",
         "latitude": 57.153534,
         "longitude": 65.542274,
         "_deepnote_index_column": 51
        },
        {
         "shop_name": "ufa tc central ",
         "shop_type": "tc",
         "online": 0,
         "shop_city": "ufa",
         "latitude": 54.7261409,
         "longitude": 55.947499,
         "_deepnote_index_column": 52
        },
        {
         "shop_name": "ufa tc family 2",
         "shop_type": "tc",
         "online": 0,
         "shop_city": "ufa",
         "latitude": 54.7261409,
         "longitude": 55.947499,
         "_deepnote_index_column": 53
        },
        {
         "shop_name": "khimki tc mega ",
         "shop_type": "mall",
         "online": 0,
         "shop_city": "khimki",
         "latitude": 55.8892847,
         "longitude": 37.4449896,
         "_deepnote_index_column": 54
        },
        {
         "shop_name": "digital warehouse 1c-online",
         "shop_type": "online",
         "online": 1,
         "shop_city": "digital",
         "latitude": 54.9675002,
         "longitude": -1.6204908,
         "_deepnote_index_column": 55
        },
        {
         "shop_name": "chekhov tc karnaval ",
         "shop_type": "tc",
         "online": 0,
         "shop_city": "chekhov",
         "latitude": 55.1426603,
         "longitude": 37.4545328,
         "_deepnote_index_column": 56
        },
        {
         "shop_name": "yakutsk ordzhonikidze - 56",
         "shop_type": "regular",
         "online": 0,
         "shop_city": "yakutsk",
         "latitude": 62.027287,
         "longitude": 129.732086,
         "_deepnote_index_column": 57
        },
        {
         "shop_name": "yakutsk tc central ",
         "shop_type": "tc",
         "online": 0,
         "shop_city": "yakutsk",
         "latitude": 62.027287,
         "longitude": 129.732086,
         "_deepnote_index_column": 58
        },
        {
         "shop_name": "yaroslavl tc altair ",
         "shop_type": "tc",
         "online": 0,
         "shop_city": "yaroslavl",
         "latitude": 57.6263877,
         "longitude": 39.8933705,
         "_deepnote_index_column": 59
        }
       ],
       "rows_bottom": null
      },
      "text/plain": "                                                 shop_name shop_type  online  \\\nshop_id                                                                        \n0                        yakutsk ordzhonikidze - 56 francs   regular       0   \n1                                  yakutsk tc central fran        tc       0   \n2                                           adygea tc mega      mall       0   \n3                            balashikha tc oktyabr-kinomir        tc       0   \n4                                      volga tc volga mall      mall       0   \n5                                     vologda sec marmelad   regular       0   \n6                             voronezh (plekhanovskaya 13)   regular       0   \n7                                    voronezh sec maksimir   regular       0   \n8                              voronezh sec city-park grad   regular       0   \n9                                           outbound trade   special       0   \n10                              zhukovsky st. chkalov 39m?   regular       0   \n11                              zhukovsky st. chkalov 39m²   regular       0   \n12                   internet-shop of emergency situations    online       1   \n13                                        kazan tc behetle        tc       0   \n14                                   kazan tc parkhouse ii        tc       0   \n15                                   kaluga tc xxi century        tc       0   \n16                                          kolomna tc rio        tc       0   \n17                            krasnoyarsk tc vzletka plaza        tc       0   \n18                                     krasnoyarsk tc june        tc       0   \n19                                  kursk tc  pushkinskiy         tc       0   \n20                                            moscow sale    special       0   \n21                                   moscow mtrc afi mall       mall       0   \n22                                         moscow shop c21   regular       0   \n23                          moscow tk budenovskiy (pav.a2)   regular       0   \n24                          moscow tk budenovskiy (pav.k7)   regular       0   \n25                                      moscow tec atrium    regular       0   \n26                             moscow tts areal (belyaevo)   regular       0   \n27                         moscow tc mega belaya dacha ii       mall       0   \n28                            moscow tc mega teply stan ii      mall       0   \n29                          moscow tc new age (novokosino)        tc       0   \n30                                    moscow tc perlovsky         tc       0   \n31                                   moscow tc semenovsky         tc       0   \n32                             moscow tc serebryany house         tc       0   \n33                                     mytishchi sec xl-3    regular       0   \n34                                nizhni.novgorod sec rio    regular       0   \n35                            nizhni.novgorod sec fantasy    regular       0   \n36                    novosibirsk sec gallery novosibirsk    regular       0   \n37                                   novosibirsk sec mega       mall       0   \n38                                           omsk tc mega       mall       0   \n39                    rostov-on-don sec megacenter horizon      mall       0   \n40       rostov-on-don megatsentr gorizont ostrovnoy sh...      mall       0   \n41                      rostov-on-don mega shopping center      mall       0   \n42             st.petersburg nevsky center shopping center      mall       0   \n43                   st.petersburg sennaya shopping center      mall       0   \n44                           samara melody shopping center      mall       0   \n45                        samara parkhouse shopping center      mall       0   \n46                       sergiev posad 7ya shopping center      mall       0   \n47                                    surgut sec city mall      mall       0   \n48                                  tomsk sec emerald city   regular       0   \n49                                      tyumen sec crystal   regular       0   \n50                                      tyumen sec goodwin   regular       0   \n51                                  tyumen tc green coast         tc       0   \n52                                         ufa tc central         tc       0   \n53                                         ufa tc family 2        tc       0   \n54                                         khimki tc mega       mall       0   \n55                             digital warehouse 1c-online    online       1   \n56                                    chekhov tc karnaval         tc       0   \n57                              yakutsk ordzhonikidze - 56   regular       0   \n58                                     yakutsk tc central         tc       0   \n59                                    yaroslavl tc altair         tc       0   \n\n               shop_city   latitude   longitude  \nshop_id                                          \n0                yakutsk  62.027287  129.732086  \n1                yakutsk  62.027287  129.732086  \n2                 adygea  44.693901   40.152042  \n3             balashikha  55.803623   37.964649  \n4                  volga  56.167024   44.215057  \n5                vologda  59.218876   39.893276  \n6               voronezh  51.660598   39.200586  \n7               voronezh  51.660598   39.200586  \n8               voronezh  51.660598   39.200586  \n9               outbound  52.711339   -2.760695  \n10             zhukovsky  55.597280   38.119986  \n11             zhukovsky  55.597280   38.119986  \n12         internet-shop  51.470713   -0.028923  \n13                 kazan  55.782355   49.124227  \n14                 kazan  55.782355   49.124227  \n15                kaluga  54.510109   36.259811  \n16               kolomna  55.093874   38.767012  \n17           krasnoyarsk  63.323381   97.097997  \n18           krasnoyarsk  63.323381   97.097997  \n19                 kursk  51.739433   36.179604  \n20                moscow  55.750446   37.617494  \n21                moscow  55.750446   37.617494  \n22                moscow  55.750446   37.617494  \n23                moscow  55.750446   37.617494  \n24                moscow  55.750446   37.617494  \n25                moscow  55.750446   37.617494  \n26                moscow  55.750446   37.617494  \n27                moscow  55.750446   37.617494  \n28                moscow  55.750446   37.617494  \n29                moscow  55.750446   37.617494  \n30                moscow  55.750446   37.617494  \n31                moscow  55.750446   37.617494  \n32                moscow  55.750446   37.617494  \n33             mytishchi  55.909493   37.733936  \n34       nizhni.novgorod  56.328571   44.003506  \n35       nizhni.novgorod  56.328571   44.003506  \n36           novosibirsk  55.028217   82.923451  \n37           novosibirsk  55.028217   82.923451  \n38                  omsk  54.991375   73.371529  \n39         rostov-on-don  47.221386   39.711420  \n40         rostov-on-don  47.221386   39.711420  \n41         rostov-on-don  47.221386   39.711420  \n42         st.petersburg  59.938732   30.316229  \n43         st.petersburg  59.938732   30.316229  \n44                samara  53.198627   50.113987  \n45                samara  53.198627   50.113987  \n46               sergiev  56.313340   38.132073  \n47                surgut  61.254032   73.396400  \n48                 tomsk  58.612428   82.047532  \n49                tyumen  57.153534   65.542274  \n50                tyumen  57.153534   65.542274  \n51                tyumen  57.153534   65.542274  \n52                   ufa  54.726141   55.947499  \n53                   ufa  54.726141   55.947499  \n54                khimki  55.889285   37.444990  \n55               digital  54.967500   -1.620491  \n56               chekhov  55.142660   37.454533  \n57               yakutsk  62.027287  129.732086  \n58               yakutsk  62.027287  129.732086  \n59             yaroslavl  57.626388   39.893371  ",
      "text/html": "<div>\n<style scoped>\n    .dataframe tbody tr th:only-of-type {\n        vertical-align: middle;\n    }\n\n    .dataframe tbody tr th {\n        vertical-align: top;\n    }\n\n    .dataframe thead th {\n        text-align: right;\n    }\n</style>\n<table border=\"1\" class=\"dataframe\">\n  <thead>\n    <tr style=\"text-align: right;\">\n      <th></th>\n      <th>shop_name</th>\n      <th>shop_type</th>\n      <th>online</th>\n      <th>shop_city</th>\n      <th>latitude</th>\n      <th>longitude</th>\n    </tr>\n    <tr>\n      <th>shop_id</th>\n      <th></th>\n      <th></th>\n      <th></th>\n      <th></th>\n      <th></th>\n      <th></th>\n    </tr>\n  </thead>\n  <tbody>\n    <tr>\n      <th>0</th>\n      <td>yakutsk ordzhonikidze - 56 francs</td>\n      <td>regular</td>\n      <td>0</td>\n      <td>yakutsk</td>\n      <td>62.027287</td>\n      <td>129.732086</td>\n    </tr>\n    <tr>\n      <th>1</th>\n      <td>yakutsk tc central fran</td>\n      <td>tc</td>\n      <td>0</td>\n      <td>yakutsk</td>\n      <td>62.027287</td>\n      <td>129.732086</td>\n    </tr>\n    <tr>\n      <th>2</th>\n      <td>adygea tc mega</td>\n      <td>mall</td>\n      <td>0</td>\n      <td>adygea</td>\n      <td>44.693901</td>\n      <td>40.152042</td>\n    </tr>\n    <tr>\n      <th>3</th>\n      <td>balashikha tc oktyabr-kinomir</td>\n      <td>tc</td>\n      <td>0</td>\n      <td>balashikha</td>\n      <td>55.803623</td>\n      <td>37.964649</td>\n    </tr>\n    <tr>\n      <th>4</th>\n      <td>volga tc volga mall</td>\n      <td>mall</td>\n      <td>0</td>\n      <td>volga</td>\n      <td>56.167024</td>\n      <td>44.215057</td>\n    </tr>\n    <tr>\n      <th>5</th>\n      <td>vologda sec marmelad</td>\n      <td>regular</td>\n      <td>0</td>\n      <td>vologda</td>\n      <td>59.218876</td>\n      <td>39.893276</td>\n    </tr>\n    <tr>\n      <th>6</th>\n      <td>voronezh (plekhanovskaya 13)</td>\n      <td>regular</td>\n      <td>0</td>\n      <td>voronezh</td>\n      <td>51.660598</td>\n      <td>39.200586</td>\n    </tr>\n    <tr>\n      <th>7</th>\n      <td>voronezh sec maksimir</td>\n      <td>regular</td>\n      <td>0</td>\n      <td>voronezh</td>\n      <td>51.660598</td>\n      <td>39.200586</td>\n    </tr>\n    <tr>\n      <th>8</th>\n      <td>voronezh sec city-park grad</td>\n      <td>regular</td>\n      <td>0</td>\n      <td>voronezh</td>\n      <td>51.660598</td>\n      <td>39.200586</td>\n    </tr>\n    <tr>\n      <th>9</th>\n      <td>outbound trade</td>\n      <td>special</td>\n      <td>0</td>\n      <td>outbound</td>\n      <td>52.711339</td>\n      <td>-2.760695</td>\n    </tr>\n    <tr>\n      <th>10</th>\n      <td>zhukovsky st. chkalov 39m?</td>\n      <td>regular</td>\n      <td>0</td>\n      <td>zhukovsky</td>\n      <td>55.597280</td>\n      <td>38.119986</td>\n    </tr>\n    <tr>\n      <th>11</th>\n      <td>zhukovsky st. chkalov 39m²</td>\n      <td>regular</td>\n      <td>0</td>\n      <td>zhukovsky</td>\n      <td>55.597280</td>\n      <td>38.119986</td>\n    </tr>\n    <tr>\n      <th>12</th>\n      <td>internet-shop of emergency situations</td>\n      <td>online</td>\n      <td>1</td>\n      <td>internet-shop</td>\n      <td>51.470713</td>\n      <td>-0.028923</td>\n    </tr>\n    <tr>\n      <th>13</th>\n      <td>kazan tc behetle</td>\n      <td>tc</td>\n      <td>0</td>\n      <td>kazan</td>\n      <td>55.782355</td>\n      <td>49.124227</td>\n    </tr>\n    <tr>\n      <th>14</th>\n      <td>kazan tc parkhouse ii</td>\n      <td>tc</td>\n      <td>0</td>\n      <td>kazan</td>\n      <td>55.782355</td>\n      <td>49.124227</td>\n    </tr>\n    <tr>\n      <th>15</th>\n      <td>kaluga tc xxi century</td>\n      <td>tc</td>\n      <td>0</td>\n      <td>kaluga</td>\n      <td>54.510109</td>\n      <td>36.259811</td>\n    </tr>\n    <tr>\n      <th>16</th>\n      <td>kolomna tc rio</td>\n      <td>tc</td>\n      <td>0</td>\n      <td>kolomna</td>\n      <td>55.093874</td>\n      <td>38.767012</td>\n    </tr>\n    <tr>\n      <th>17</th>\n      <td>krasnoyarsk tc vzletka plaza</td>\n      <td>tc</td>\n      <td>0</td>\n      <td>krasnoyarsk</td>\n      <td>63.323381</td>\n      <td>97.097997</td>\n    </tr>\n    <tr>\n      <th>18</th>\n      <td>krasnoyarsk tc june</td>\n      <td>tc</td>\n      <td>0</td>\n      <td>krasnoyarsk</td>\n      <td>63.323381</td>\n      <td>97.097997</td>\n    </tr>\n    <tr>\n      <th>19</th>\n      <td>kursk tc  pushkinskiy</td>\n      <td>tc</td>\n      <td>0</td>\n      <td>kursk</td>\n      <td>51.739433</td>\n      <td>36.179604</td>\n    </tr>\n    <tr>\n      <th>20</th>\n      <td>moscow sale</td>\n      <td>special</td>\n      <td>0</td>\n      <td>moscow</td>\n      <td>55.750446</td>\n      <td>37.617494</td>\n    </tr>\n    <tr>\n      <th>21</th>\n      <td>moscow mtrc afi mall</td>\n      <td>mall</td>\n      <td>0</td>\n      <td>moscow</td>\n      <td>55.750446</td>\n      <td>37.617494</td>\n    </tr>\n    <tr>\n      <th>22</th>\n      <td>moscow shop c21</td>\n      <td>regular</td>\n      <td>0</td>\n      <td>moscow</td>\n      <td>55.750446</td>\n      <td>37.617494</td>\n    </tr>\n    <tr>\n      <th>23</th>\n      <td>moscow tk budenovskiy (pav.a2)</td>\n      <td>regular</td>\n      <td>0</td>\n      <td>moscow</td>\n      <td>55.750446</td>\n      <td>37.617494</td>\n    </tr>\n    <tr>\n      <th>24</th>\n      <td>moscow tk budenovskiy (pav.k7)</td>\n      <td>regular</td>\n      <td>0</td>\n      <td>moscow</td>\n      <td>55.750446</td>\n      <td>37.617494</td>\n    </tr>\n    <tr>\n      <th>25</th>\n      <td>moscow tec atrium</td>\n      <td>regular</td>\n      <td>0</td>\n      <td>moscow</td>\n      <td>55.750446</td>\n      <td>37.617494</td>\n    </tr>\n    <tr>\n      <th>26</th>\n      <td>moscow tts areal (belyaevo)</td>\n      <td>regular</td>\n      <td>0</td>\n      <td>moscow</td>\n      <td>55.750446</td>\n      <td>37.617494</td>\n    </tr>\n    <tr>\n      <th>27</th>\n      <td>moscow tc mega belaya dacha ii</td>\n      <td>mall</td>\n      <td>0</td>\n      <td>moscow</td>\n      <td>55.750446</td>\n      <td>37.617494</td>\n    </tr>\n    <tr>\n      <th>28</th>\n      <td>moscow tc mega teply stan ii</td>\n      <td>mall</td>\n      <td>0</td>\n      <td>moscow</td>\n      <td>55.750446</td>\n      <td>37.617494</td>\n    </tr>\n    <tr>\n      <th>29</th>\n      <td>moscow tc new age (novokosino)</td>\n      <td>tc</td>\n      <td>0</td>\n      <td>moscow</td>\n      <td>55.750446</td>\n      <td>37.617494</td>\n    </tr>\n    <tr>\n      <th>30</th>\n      <td>moscow tc perlovsky</td>\n      <td>tc</td>\n      <td>0</td>\n      <td>moscow</td>\n      <td>55.750446</td>\n      <td>37.617494</td>\n    </tr>\n    <tr>\n      <th>31</th>\n      <td>moscow tc semenovsky</td>\n      <td>tc</td>\n      <td>0</td>\n      <td>moscow</td>\n      <td>55.750446</td>\n      <td>37.617494</td>\n    </tr>\n    <tr>\n      <th>32</th>\n      <td>moscow tc serebryany house</td>\n      <td>tc</td>\n      <td>0</td>\n      <td>moscow</td>\n      <td>55.750446</td>\n      <td>37.617494</td>\n    </tr>\n    <tr>\n      <th>33</th>\n      <td>mytishchi sec xl-3</td>\n      <td>regular</td>\n      <td>0</td>\n      <td>mytishchi</td>\n      <td>55.909493</td>\n      <td>37.733936</td>\n    </tr>\n    <tr>\n      <th>34</th>\n      <td>nizhni.novgorod sec rio</td>\n      <td>regular</td>\n      <td>0</td>\n      <td>nizhni.novgorod</td>\n      <td>56.328571</td>\n      <td>44.003506</td>\n    </tr>\n    <tr>\n      <th>35</th>\n      <td>nizhni.novgorod sec fantasy</td>\n      <td>regular</td>\n      <td>0</td>\n      <td>nizhni.novgorod</td>\n      <td>56.328571</td>\n      <td>44.003506</td>\n    </tr>\n    <tr>\n      <th>36</th>\n      <td>novosibirsk sec gallery novosibirsk</td>\n      <td>regular</td>\n      <td>0</td>\n      <td>novosibirsk</td>\n      <td>55.028217</td>\n      <td>82.923451</td>\n    </tr>\n    <tr>\n      <th>37</th>\n      <td>novosibirsk sec mega</td>\n      <td>mall</td>\n      <td>0</td>\n      <td>novosibirsk</td>\n      <td>55.028217</td>\n      <td>82.923451</td>\n    </tr>\n    <tr>\n      <th>38</th>\n      <td>omsk tc mega</td>\n      <td>mall</td>\n      <td>0</td>\n      <td>omsk</td>\n      <td>54.991375</td>\n      <td>73.371529</td>\n    </tr>\n    <tr>\n      <th>39</th>\n      <td>rostov-on-don sec megacenter horizon</td>\n      <td>mall</td>\n      <td>0</td>\n      <td>rostov-on-don</td>\n      <td>47.221386</td>\n      <td>39.711420</td>\n    </tr>\n    <tr>\n      <th>40</th>\n      <td>rostov-on-don megatsentr gorizont ostrovnoy sh...</td>\n      <td>mall</td>\n      <td>0</td>\n      <td>rostov-on-don</td>\n      <td>47.221386</td>\n      <td>39.711420</td>\n    </tr>\n    <tr>\n      <th>41</th>\n      <td>rostov-on-don mega shopping center</td>\n      <td>mall</td>\n      <td>0</td>\n      <td>rostov-on-don</td>\n      <td>47.221386</td>\n      <td>39.711420</td>\n    </tr>\n    <tr>\n      <th>42</th>\n      <td>st.petersburg nevsky center shopping center</td>\n      <td>mall</td>\n      <td>0</td>\n      <td>st.petersburg</td>\n      <td>59.938732</td>\n      <td>30.316229</td>\n    </tr>\n    <tr>\n      <th>43</th>\n      <td>st.petersburg sennaya shopping center</td>\n      <td>mall</td>\n      <td>0</td>\n      <td>st.petersburg</td>\n      <td>59.938732</td>\n      <td>30.316229</td>\n    </tr>\n    <tr>\n      <th>44</th>\n      <td>samara melody shopping center</td>\n      <td>mall</td>\n      <td>0</td>\n      <td>samara</td>\n      <td>53.198627</td>\n      <td>50.113987</td>\n    </tr>\n    <tr>\n      <th>45</th>\n      <td>samara parkhouse shopping center</td>\n      <td>mall</td>\n      <td>0</td>\n      <td>samara</td>\n      <td>53.198627</td>\n      <td>50.113987</td>\n    </tr>\n    <tr>\n      <th>46</th>\n      <td>sergiev posad 7ya shopping center</td>\n      <td>mall</td>\n      <td>0</td>\n      <td>sergiev</td>\n      <td>56.313340</td>\n      <td>38.132073</td>\n    </tr>\n    <tr>\n      <th>47</th>\n      <td>surgut sec city mall</td>\n      <td>mall</td>\n      <td>0</td>\n      <td>surgut</td>\n      <td>61.254032</td>\n      <td>73.396400</td>\n    </tr>\n    <tr>\n      <th>48</th>\n      <td>tomsk sec emerald city</td>\n      <td>regular</td>\n      <td>0</td>\n      <td>tomsk</td>\n      <td>58.612428</td>\n      <td>82.047532</td>\n    </tr>\n    <tr>\n      <th>49</th>\n      <td>tyumen sec crystal</td>\n      <td>regular</td>\n      <td>0</td>\n      <td>tyumen</td>\n      <td>57.153534</td>\n      <td>65.542274</td>\n    </tr>\n    <tr>\n      <th>50</th>\n      <td>tyumen sec goodwin</td>\n      <td>regular</td>\n      <td>0</td>\n      <td>tyumen</td>\n      <td>57.153534</td>\n      <td>65.542274</td>\n    </tr>\n    <tr>\n      <th>51</th>\n      <td>tyumen tc green coast</td>\n      <td>tc</td>\n      <td>0</td>\n      <td>tyumen</td>\n      <td>57.153534</td>\n      <td>65.542274</td>\n    </tr>\n    <tr>\n      <th>52</th>\n      <td>ufa tc central</td>\n      <td>tc</td>\n      <td>0</td>\n      <td>ufa</td>\n      <td>54.726141</td>\n      <td>55.947499</td>\n    </tr>\n    <tr>\n      <th>53</th>\n      <td>ufa tc family 2</td>\n      <td>tc</td>\n      <td>0</td>\n      <td>ufa</td>\n      <td>54.726141</td>\n      <td>55.947499</td>\n    </tr>\n    <tr>\n      <th>54</th>\n      <td>khimki tc mega</td>\n      <td>mall</td>\n      <td>0</td>\n      <td>khimki</td>\n      <td>55.889285</td>\n      <td>37.444990</td>\n    </tr>\n    <tr>\n      <th>55</th>\n      <td>digital warehouse 1c-online</td>\n      <td>online</td>\n      <td>1</td>\n      <td>digital</td>\n      <td>54.967500</td>\n      <td>-1.620491</td>\n    </tr>\n    <tr>\n      <th>56</th>\n      <td>chekhov tc karnaval</td>\n      <td>tc</td>\n      <td>0</td>\n      <td>chekhov</td>\n      <td>55.142660</td>\n      <td>37.454533</td>\n    </tr>\n    <tr>\n      <th>57</th>\n      <td>yakutsk ordzhonikidze - 56</td>\n      <td>regular</td>\n      <td>0</td>\n      <td>yakutsk</td>\n      <td>62.027287</td>\n      <td>129.732086</td>\n    </tr>\n    <tr>\n      <th>58</th>\n      <td>yakutsk tc central</td>\n      <td>tc</td>\n      <td>0</td>\n      <td>yakutsk</td>\n      <td>62.027287</td>\n      <td>129.732086</td>\n    </tr>\n    <tr>\n      <th>59</th>\n      <td>yaroslavl tc altair</td>\n      <td>tc</td>\n      <td>0</td>\n      <td>yaroslavl</td>\n      <td>57.626388</td>\n      <td>39.893371</td>\n    </tr>\n  </tbody>\n</table>\n</div>"
     },
     "metadata": {}
    }
   ],
   "execution_count": 13
  },
  {
   "cell_type": "code",
   "source": "df = pd.merge(df, cities, on=\"shop_city\", how=\"left\").set_index('shop_id')\ndf.to_csv(\"SHOPS.csv\")\n",
   "metadata": {
    "tags": [],
    "cell_id": "00018-a482462a-6027-4020-94c5-9bbf44b35295",
    "deepnote_to_be_reexecuted": false,
    "source_hash": "1a093770",
    "execution_start": 1620830639029,
    "execution_millis": 21,
    "deepnote_cell_type": "code"
   },
   "outputs": [
    {
     "output_type": "error",
     "ename": "KeyError",
     "evalue": "\"None of ['shop_id'] are in the columns\"",
     "traceback": [
      "\u001b[0;31m---------------------------------------------------------------------------\u001b[0m",
      "\u001b[0;31mKeyError\u001b[0m                                  Traceback (most recent call last)",
      "\u001b[0;32m<ipython-input-12-8c122032ef32>\u001b[0m in \u001b[0;36m<module>\u001b[0;34m\u001b[0m\n\u001b[0;32m----> 1\u001b[0;31m \u001b[0mdf\u001b[0m \u001b[0;34m=\u001b[0m \u001b[0mpd\u001b[0m\u001b[0;34m.\u001b[0m\u001b[0mmerge\u001b[0m\u001b[0;34m(\u001b[0m\u001b[0mdf\u001b[0m\u001b[0;34m,\u001b[0m \u001b[0mcities\u001b[0m\u001b[0;34m,\u001b[0m \u001b[0mon\u001b[0m\u001b[0;34m=\u001b[0m\u001b[0;34m\"shop_city\"\u001b[0m\u001b[0;34m,\u001b[0m \u001b[0mhow\u001b[0m\u001b[0;34m=\u001b[0m\u001b[0;34m\"left\"\u001b[0m\u001b[0;34m)\u001b[0m\u001b[0;34m.\u001b[0m\u001b[0mset_index\u001b[0m\u001b[0;34m(\u001b[0m\u001b[0;34m'shop_id'\u001b[0m\u001b[0;34m)\u001b[0m\u001b[0;34m\u001b[0m\u001b[0;34m\u001b[0m\u001b[0m\n\u001b[0m\u001b[1;32m      2\u001b[0m \u001b[0mdf\u001b[0m\u001b[0;34m.\u001b[0m\u001b[0mto_csv\u001b[0m\u001b[0;34m(\u001b[0m\u001b[0;34m\"SHOPS.csv\"\u001b[0m\u001b[0;34m)\u001b[0m\u001b[0;34m\u001b[0m\u001b[0;34m\u001b[0m\u001b[0m\n",
      "\u001b[0;32m/shared-libs/python3.7/py/lib/python3.7/site-packages/pandas/core/frame.py\u001b[0m in \u001b[0;36mset_index\u001b[0;34m(self, keys, drop, append, inplace, verify_integrity)\u001b[0m\n\u001b[1;32m   4725\u001b[0m \u001b[0;34m\u001b[0m\u001b[0m\n\u001b[1;32m   4726\u001b[0m         \u001b[0;32mif\u001b[0m \u001b[0mmissing\u001b[0m\u001b[0;34m:\u001b[0m\u001b[0;34m\u001b[0m\u001b[0;34m\u001b[0m\u001b[0m\n\u001b[0;32m-> 4727\u001b[0;31m             \u001b[0;32mraise\u001b[0m \u001b[0mKeyError\u001b[0m\u001b[0;34m(\u001b[0m\u001b[0;34mf\"None of {missing} are in the columns\"\u001b[0m\u001b[0;34m)\u001b[0m\u001b[0;34m\u001b[0m\u001b[0;34m\u001b[0m\u001b[0m\n\u001b[0m\u001b[1;32m   4728\u001b[0m \u001b[0;34m\u001b[0m\u001b[0m\n\u001b[1;32m   4729\u001b[0m         \u001b[0;32mif\u001b[0m \u001b[0minplace\u001b[0m\u001b[0;34m:\u001b[0m\u001b[0;34m\u001b[0m\u001b[0;34m\u001b[0m\u001b[0m\n",
      "\u001b[0;31mKeyError\u001b[0m: \"None of ['shop_id'] are in the columns\""
     ]
    }
   ],
   "execution_count": 12
  },
  {
   "cell_type": "markdown",
   "source": "<a style='text-decoration:none;line-height:16px;display:flex;color:#5B5B62;padding:10px;justify-content:end;' href='https://deepnote.com?utm_source=created-in-deepnote-cell&projectId=876aa865-8eb0-4eaa-88f8-0fbe2feb6d11' target=\"_blank\">\n<img alt='Created in deepnote.com' style='display:inline;max-height:16px;margin:0px;margin-right:7.5px;' src='data:image/svg+xml;base64,PD94bWwgdmVyc2lvbj0iMS4wIiBlbmNvZGluZz0iVVRGLTgiPz4KPHN2ZyB3aWR0aD0iODBweCIgaGVpZ2h0PSI4MHB4IiB2aWV3Qm94PSIwIDAgODAgODAiIHZlcnNpb249IjEuMSIgeG1sbnM9Imh0dHA6Ly93d3cudzMub3JnLzIwMDAvc3ZnIiB4bWxuczp4bGluaz0iaHR0cDovL3d3dy53My5vcmcvMTk5OS94bGluayI+CiAgICA8IS0tIEdlbmVyYXRvcjogU2tldGNoIDU0LjEgKDc2NDkwKSAtIGh0dHBzOi8vc2tldGNoYXBwLmNvbSAtLT4KICAgIDx0aXRsZT5Hcm91cCAzPC90aXRsZT4KICAgIDxkZXNjPkNyZWF0ZWQgd2l0aCBTa2V0Y2guPC9kZXNjPgogICAgPGcgaWQ9IkxhbmRpbmciIHN0cm9rZT0ibm9uZSIgc3Ryb2tlLXdpZHRoPSIxIiBmaWxsPSJub25lIiBmaWxsLXJ1bGU9ImV2ZW5vZGQiPgogICAgICAgIDxnIGlkPSJBcnRib2FyZCIgdHJhbnNmb3JtPSJ0cmFuc2xhdGUoLTEyMzUuMDAwMDAwLCAtNzkuMDAwMDAwKSI+CiAgICAgICAgICAgIDxnIGlkPSJHcm91cC0zIiB0cmFuc2Zvcm09InRyYW5zbGF0ZSgxMjM1LjAwMDAwMCwgNzkuMDAwMDAwKSI+CiAgICAgICAgICAgICAgICA8cG9seWdvbiBpZD0iUGF0aC0yMCIgZmlsbD0iIzAyNjVCNCIgcG9pbnRzPSIyLjM3NjIzNzYyIDgwIDM4LjA0NzY2NjcgODAgNTcuODIxNzgyMiA3My44MDU3NTkyIDU3LjgyMTc4MjIgMzIuNzU5MjczOSAzOS4xNDAyMjc4IDMxLjY4MzE2ODMiPjwvcG9seWdvbj4KICAgICAgICAgICAgICAgIDxwYXRoIGQ9Ik0zNS4wMDc3MTgsODAgQzQyLjkwNjIwMDcsNzYuNDU0OTM1OCA0Ny41NjQ5MTY3LDcxLjU0MjI2NzEgNDguOTgzODY2LDY1LjI2MTk5MzkgQzUxLjExMjI4OTksNTUuODQxNTg0MiA0MS42NzcxNzk1LDQ5LjIxMjIyODQgMjUuNjIzOTg0Niw0OS4yMTIyMjg0IEMyNS40ODQ5Mjg5LDQ5LjEyNjg0NDggMjkuODI2MTI5Niw0My4yODM4MjQ4IDM4LjY0NzU4NjksMzEuNjgzMTY4MyBMNzIuODcxMjg3MSwzMi41NTQ0MjUgTDY1LjI4MDk3Myw2Ny42NzYzNDIxIEw1MS4xMTIyODk5LDc3LjM3NjE0NCBMMzUuMDA3NzE4LDgwIFoiIGlkPSJQYXRoLTIyIiBmaWxsPSIjMDAyODY4Ij48L3BhdGg+CiAgICAgICAgICAgICAgICA8cGF0aCBkPSJNMCwzNy43MzA0NDA1IEwyNy4xMTQ1MzcsMC4yNTcxMTE0MzYgQzYyLjM3MTUxMjMsLTEuOTkwNzE3MDEgODAsMTAuNTAwMzkyNyA4MCwzNy43MzA0NDA1IEM4MCw2NC45NjA0ODgyIDY0Ljc3NjUwMzgsNzkuMDUwMzQxNCAzNC4zMjk1MTEzLDgwIEM0Ny4wNTUzNDg5LDc3LjU2NzA4MDggNTMuNDE4MjY3Nyw3MC4zMTM2MTAzIDUzLjQxODI2NzcsNTguMjM5NTg4NSBDNTMuNDE4MjY3Nyw0MC4xMjg1NTU3IDM2LjMwMzk1NDQsMzcuNzMwNDQwNSAyNS4yMjc0MTcsMzcuNzMwNDQwNSBDMTcuODQzMDU4NiwzNy43MzA0NDA1IDkuNDMzOTE5NjYsMzcuNzMwNDQwNSAwLDM3LjczMDQ0MDUgWiIgaWQ9IlBhdGgtMTkiIGZpbGw9IiMzNzkzRUYiPjwvcGF0aD4KICAgICAgICAgICAgPC9nPgogICAgICAgIDwvZz4KICAgIDwvZz4KPC9zdmc+' > </img>\nCreated in <span style='font-weight:600;margin-left:4px;'>Deepnote</span></a>",
   "metadata": {
    "tags": [],
    "created_in_deepnote_cell": true,
    "deepnote_cell_type": "markdown"
   }
  }
 ],
 "nbformat": 4,
 "nbformat_minor": 4,
 "metadata": {
  "kernelspec": {
   "display_name": "Python 3",
   "language": "python",
   "name": "python3"
  },
  "language_info": {
   "codemirror_mode": {
    "name": "ipython",
    "version": 3
   },
   "file_extension": ".py",
   "mimetype": "text/x-python",
   "name": "python",
   "nbconvert_exporter": "python",
   "pygments_lexer": "ipython3",
   "version": "3.8.5"
  },
  "deepnote_notebook_id": "a96dc8c8-589f-4932-bf7b-911ff9b37204",
  "deepnote": {},
  "deepnote_execution_queue": []
 }
}